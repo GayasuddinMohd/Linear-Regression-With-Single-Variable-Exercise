{
 "cells": [
  {
   "cell_type": "code",
   "execution_count": 1,
   "id": "aecaca00",
   "metadata": {},
   "outputs": [],
   "source": [
    "# import the required libraries\n",
    "import pandas as pd\n",
    "import seaborn as sns\n",
    "import matplotlib.pyplot as plt\n",
    "from sklearn import linear_model"
   ]
  },
  {
   "cell_type": "code",
   "execution_count": 2,
   "id": "9b4381fd",
   "metadata": {},
   "outputs": [
    {
     "data": {
      "text/html": [
       "<div>\n",
       "<style scoped>\n",
       "    .dataframe tbody tr th:only-of-type {\n",
       "        vertical-align: middle;\n",
       "    }\n",
       "\n",
       "    .dataframe tbody tr th {\n",
       "        vertical-align: top;\n",
       "    }\n",
       "\n",
       "    .dataframe thead th {\n",
       "        text-align: right;\n",
       "    }\n",
       "</style>\n",
       "<table border=\"1\" class=\"dataframe\">\n",
       "  <thead>\n",
       "    <tr style=\"text-align: right;\">\n",
       "      <th></th>\n",
       "      <th>Age</th>\n",
       "      <th>Premium</th>\n",
       "    </tr>\n",
       "  </thead>\n",
       "  <tbody>\n",
       "    <tr>\n",
       "      <th>0</th>\n",
       "      <td>25</td>\n",
       "      <td>18000</td>\n",
       "    </tr>\n",
       "    <tr>\n",
       "      <th>1</th>\n",
       "      <td>30</td>\n",
       "      <td>32000</td>\n",
       "    </tr>\n",
       "    <tr>\n",
       "      <th>2</th>\n",
       "      <td>35</td>\n",
       "      <td>42000</td>\n",
       "    </tr>\n",
       "    <tr>\n",
       "      <th>3</th>\n",
       "      <td>40</td>\n",
       "      <td>47000</td>\n",
       "    </tr>\n",
       "    <tr>\n",
       "      <th>4</th>\n",
       "      <td>45</td>\n",
       "      <td>55000</td>\n",
       "    </tr>\n",
       "  </tbody>\n",
       "</table>\n",
       "</div>"
      ],
      "text/plain": [
       "   Age  Premium\n",
       "0   25    18000\n",
       "1   30    32000\n",
       "2   35    42000\n",
       "3   40    47000\n",
       "4   45    55000"
      ]
     },
     "execution_count": 2,
     "metadata": {},
     "output_type": "execute_result"
    }
   ],
   "source": [
    "# read the dataset\n",
    "df=pd.read_excel(\"C:\\\\Users\\\\abc\\\\Documents\\\\Insurance.xlsx\")\n",
    "df"
   ]
  },
  {
   "cell_type": "code",
   "execution_count": 3,
   "id": "de85cd7b",
   "metadata": {},
   "outputs": [
    {
     "data": {
      "text/plain": [
       "0    25\n",
       "1    30\n",
       "2    35\n",
       "3    40\n",
       "4    45\n",
       "Name: Age, dtype: int64"
      ]
     },
     "execution_count": 3,
     "metadata": {},
     "output_type": "execute_result"
    }
   ],
   "source": [
    "# extract the age column of the dataset\n",
    "df['Age']"
   ]
  },
  {
   "cell_type": "code",
   "execution_count": 4,
   "id": "52f2f426",
   "metadata": {},
   "outputs": [
    {
     "data": {
      "text/plain": [
       "0    18000\n",
       "1    32000\n",
       "2    42000\n",
       "3    47000\n",
       "4    55000\n",
       "Name: Premium, dtype: int64"
      ]
     },
     "execution_count": 4,
     "metadata": {},
     "output_type": "execute_result"
    }
   ],
   "source": [
    "# extract the Premium column of the dataset\n",
    "df['Premium']"
   ]
  },
  {
   "cell_type": "code",
   "execution_count": 5,
   "id": "24b777f9",
   "metadata": {},
   "outputs": [
    {
     "data": {
      "image/png": "[encoded data removed]",
      "text/plain": [
       "<Figure size 500x500 with 1 Axes>"
      ]
     },
     "metadata": {},
     "output_type": "display_data"
    }
   ],
   "source": [
    "# relation bw Age and Premium columns of the dataset\n",
    "sns.lmplot(x=\"Age\",y=\"Premium\",data=df)\n",
    "plt.show()"
   ]
  },
  {
   "cell_type": "code",
   "execution_count": 6,
   "id": "b07d49ef",
   "metadata": {},
   "outputs": [],
   "source": [
    "# initialize the model\n",
    "reg=linear_model.LinearRegression()"
   ]
  },
  {
   "cell_type": "code",
   "execution_count": 7,
   "id": "b654d6b3",
   "metadata": {},
   "outputs": [
    {
     "data": {
      "text/plain": [
       "LinearRegression()"
      ]
     },
     "execution_count": 7,
     "metadata": {},
     "output_type": "execute_result"
    }
   ],
   "source": [
    "# variable reg\n",
    "reg"
   ]
  },
  {
   "cell_type": "code",
   "execution_count": 8,
   "id": "80170813",
   "metadata": {},
   "outputs": [
    {
     "data": {
      "text/plain": [
       "array([[25],\n",
       "       [30],\n",
       "       [35],\n",
       "       [40],\n",
       "       [45]], dtype=int64)"
      ]
     },
     "execution_count": 8,
     "metadata": {},
     "output_type": "execute_result"
    }
   ],
   "source": [
    "# make the numpy array of the Age columnof the dataset\n",
    "df[['Age']].values"
   ]
  },
  {
   "cell_type": "code",
   "execution_count": 9,
   "id": "a2256f63",
   "metadata": {},
   "outputs": [
    {
     "data": {
      "text/plain": [
       "array([[18000],\n",
       "       [32000],\n",
       "       [42000],\n",
       "       [47000],\n",
       "       [55000]], dtype=int64)"
      ]
     },
     "execution_count": 9,
     "metadata": {},
     "output_type": "execute_result"
    }
   ],
   "source": [
    "# make the numpy array of the Premium column of the dataset\n",
    "df[['Premium']].values"
   ]
  },
  {
   "cell_type": "code",
   "execution_count": 10,
   "id": "7a42a482",
   "metadata": {},
   "outputs": [
    {
     "data": {
      "text/plain": [
       "LinearRegression()"
      ]
     },
     "execution_count": 10,
     "metadata": {},
     "output_type": "execute_result"
    }
   ],
   "source": [
    "# fit the model\n",
    "reg.fit(df[['Age']].values,df[['Premium']].values)"
   ]
  },
  {
   "cell_type": "code",
   "execution_count": 11,
   "id": "23b9ca03",
   "metadata": {},
   "outputs": [
    {
     "data": {
      "text/plain": [
       "array([[65500.]])"
      ]
     },
     "execution_count": 11,
     "metadata": {},
     "output_type": "execute_result"
    }
   ],
   "source": [
    "# prediction of Premium if the age is 50\n",
    "reg.predict([[50]])"
   ]
  },
  {
   "cell_type": "markdown",
   "id": "b63e8e2a",
   "metadata": {},
   "source": [
    "The above prediction says that, if the age is 50 then the premium will be 65500.0 unit."
   ]
  },
  {
   "cell_type": "markdown",
   "id": "e9511f5c",
   "metadata": {},
   "source": [
    "Verfication of the Linear Regression machine learning algorithm with the help of y = m * x + b\n",
    "\n",
    "* y = m * x + b\n",
    "* where y=dependent variable\n",
    "* m=coefficient\n",
    "* x=independant variable\n",
    "* b=intercept"
   ]
  },
  {
   "cell_type": "code",
   "execution_count": 12,
   "id": "00133875",
   "metadata": {},
   "outputs": [
    {
     "data": {
      "text/plain": [
       "array([[1780.]])"
      ]
     },
     "execution_count": 12,
     "metadata": {},
     "output_type": "execute_result"
    }
   ],
   "source": [
    "# coefficient\n",
    "reg.coef_"
   ]
  },
  {
   "cell_type": "code",
   "execution_count": 13,
   "id": "b712d988",
   "metadata": {},
   "outputs": [
    {
     "data": {
      "text/plain": [
       "array([-23500.])"
      ]
     },
     "execution_count": 13,
     "metadata": {},
     "output_type": "execute_result"
    }
   ],
   "source": [
    "# intercept\n",
    "reg.intercept_"
   ]
  },
  {
   "cell_type": "code",
   "execution_count": 14,
   "id": "9c8c6f72",
   "metadata": {},
   "outputs": [
    {
     "data": {
      "text/plain": [
       "65500.0"
      ]
     },
     "execution_count": 14,
     "metadata": {},
     "output_type": "execute_result"
    }
   ],
   "source": [
    "# y=mx+c\n",
    "1780.*50+(-23500.)"
   ]
  },
  {
   "cell_type": "markdown",
   "id": "64301891",
   "metadata": {},
   "source": [
    "Verified, hence we can say that the output of the machine learning algorithm is true."
   ]
  },
  {
   "cell_type": "code",
   "execution_count": null,
   "id": "a3ea0016",
   "metadata": {},
   "outputs": [],
   "source": []
  }
 ],
 "metadata": {
  "kernelspec": {
   "display_name": "Python 3 (ipykernel)",
   "language": "python",
   "name": "python3"
  },
  "language_info": {
   "codemirror_mode": {
    "name": "ipython",
    "version": 3
   },
   "file_extension": ".py",
   "mimetype": "text/x-python",
   "name": "python",
   "nbconvert_exporter": "python",
   "pygments_lexer": "ipython3",
   "version": "3.9.13"
  }
 },
 "nbformat": 4,
 "nbformat_minor": 5
}
