{
 "cells": [
  {
   "cell_type": "code",
   "execution_count": 1,
   "id": "ba844153",
   "metadata": {},
   "outputs": [],
   "source": [
    "# import the required libraries\n",
    "import pandas as pd\n",
    "import matplotlib.pyplot as plt\n",
    "from sklearn.linear_model import LinearRegression"
   ]
  },
  {
   "cell_type": "code",
   "execution_count": 2,
   "id": "6f78af15",
   "metadata": {},
   "outputs": [
    {
     "data": {
      "text/html": [
       "<div>\n",
       "<style scoped>\n",
       "    .dataframe tbody tr th:only-of-type {\n",
       "        vertical-align: middle;\n",
       "    }\n",
       "\n",
       "    .dataframe tbody tr th {\n",
       "        vertical-align: top;\n",
       "    }\n",
       "\n",
       "    .dataframe thead th {\n",
       "        text-align: right;\n",
       "    }\n",
       "</style>\n",
       "<table border=\"1\" class=\"dataframe\">\n",
       "  <thead>\n",
       "    <tr style=\"text-align: right;\">\n",
       "      <th></th>\n",
       "      <th>distance</th>\n",
       "      <th>price</th>\n",
       "    </tr>\n",
       "  </thead>\n",
       "  <tbody>\n",
       "    <tr>\n",
       "      <th>0</th>\n",
       "      <td>20</td>\n",
       "      <td>10000</td>\n",
       "    </tr>\n",
       "    <tr>\n",
       "      <th>1</th>\n",
       "      <td>30</td>\n",
       "      <td>15000</td>\n",
       "    </tr>\n",
       "    <tr>\n",
       "      <th>2</th>\n",
       "      <td>80</td>\n",
       "      <td>50000</td>\n",
       "    </tr>\n",
       "    <tr>\n",
       "      <th>3</th>\n",
       "      <td>50</td>\n",
       "      <td>30000</td>\n",
       "    </tr>\n",
       "    <tr>\n",
       "      <th>4</th>\n",
       "      <td>10</td>\n",
       "      <td>5000</td>\n",
       "    </tr>\n",
       "    <tr>\n",
       "      <th>5</th>\n",
       "      <td>45</td>\n",
       "      <td>25000</td>\n",
       "    </tr>\n",
       "    <tr>\n",
       "      <th>6</th>\n",
       "      <td>30</td>\n",
       "      <td>20000</td>\n",
       "    </tr>\n",
       "    <tr>\n",
       "      <th>7</th>\n",
       "      <td>55</td>\n",
       "      <td>35000</td>\n",
       "    </tr>\n",
       "    <tr>\n",
       "      <th>8</th>\n",
       "      <td>60</td>\n",
       "      <td>40000</td>\n",
       "    </tr>\n",
       "    <tr>\n",
       "      <th>9</th>\n",
       "      <td>70</td>\n",
       "      <td>45000</td>\n",
       "    </tr>\n",
       "  </tbody>\n",
       "</table>\n",
       "</div>"
      ],
      "text/plain": [
       "   distance  price\n",
       "0        20  10000\n",
       "1        30  15000\n",
       "2        80  50000\n",
       "3        50  30000\n",
       "4        10   5000\n",
       "5        45  25000\n",
       "6        30  20000\n",
       "7        55  35000\n",
       "8        60  40000\n",
       "9        70  45000"
      ]
     },
     "execution_count": 2,
     "metadata": {},
     "output_type": "execute_result"
    }
   ],
   "source": [
    "# read the dataset\n",
    "df=pd.read_excel(\"C:\\\\Users\\\\abc\\\\Desktop\\\\abc.xlsx\")\n",
    "df"
   ]
  },
  {
   "cell_type": "code",
   "execution_count": 6,
   "id": "671b5c82",
   "metadata": {},
   "outputs": [
    {
     "data": {
      "text/plain": [
       "0    20\n",
       "1    30\n",
       "2    80\n",
       "3    50\n",
       "4    10\n",
       "5    45\n",
       "6    30\n",
       "7    55\n",
       "8    60\n",
       "9    70\n",
       "Name: distance, dtype: int64"
      ]
     },
     "execution_count": 6,
     "metadata": {},
     "output_type": "execute_result"
    }
   ],
   "source": [
    "# extract the distance column of the dataset\n",
    "df['distance']"
   ]
  },
  {
   "cell_type": "code",
   "execution_count": 7,
   "id": "16e350b8",
   "metadata": {},
   "outputs": [
    {
     "data": {
      "text/plain": [
       "0    10000\n",
       "1    15000\n",
       "2    50000\n",
       "3    30000\n",
       "4     5000\n",
       "5    25000\n",
       "6    20000\n",
       "7    35000\n",
       "8    40000\n",
       "9    45000\n",
       "Name: price, dtype: int64"
      ]
     },
     "execution_count": 7,
     "metadata": {},
     "output_type": "execute_result"
    }
   ],
   "source": [
    "# extract the price column of the dataset\n",
    "df['price']"
   ]
  },
  {
   "cell_type": "code",
   "execution_count": 5,
   "id": "747c8847",
   "metadata": {},
   "outputs": [
    {
     "data": {
      "image/png": "[encoded data removed]",
      "text/plain": [
       "<Figure size 640x480 with 1 Axes>"
      ]
     },
     "metadata": {},
     "output_type": "display_data"
    }
   ],
   "source": [
    "# relation bw distance and price columns of the dataset before the prediction\n",
    "%matplotlib inline\n",
    "plt.scatter(df['distance'],df['price'],color='red',marker='+')\n",
    "plt.xlabel(\"Distance\",fontsize=13)\n",
    "plt.ylabel(\"Price\",fontsize=13)\n",
    "plt.grid(True)\n",
    "plt.show()"
   ]
  },
  {
   "cell_type": "code",
   "execution_count": 11,
   "id": "32565e4b",
   "metadata": {},
   "outputs": [],
   "source": [
    "# initialize the linear regression model\n",
    "reg=LinearRegression()"
   ]
  },
  {
   "cell_type": "code",
   "execution_count": 12,
   "id": "da58d7bb",
   "metadata": {},
   "outputs": [
    {
     "data": {
      "text/plain": [
       "LinearRegression()"
      ]
     },
     "execution_count": 12,
     "metadata": {},
     "output_type": "execute_result"
    }
   ],
   "source": [
    "# variable reg\n",
    "reg"
   ]
  },
  {
   "cell_type": "code",
   "execution_count": 14,
   "id": "44d852a6",
   "metadata": {},
   "outputs": [
    {
     "data": {
      "text/plain": [
       "array([[20],\n",
       "       [30],\n",
       "       [80],\n",
       "       [50],\n",
       "       [10],\n",
       "       [45],\n",
       "       [30],\n",
       "       [55],\n",
       "       [60],\n",
       "       [70]], dtype=int64)"
      ]
     },
     "execution_count": 14,
     "metadata": {},
     "output_type": "execute_result"
    }
   ],
   "source": [
    "# make the numpy array of the distance column of the dataset\n",
    "x=df[['distance']].values\n",
    "x"
   ]
  },
  {
   "cell_type": "code",
   "execution_count": 15,
   "id": "56766ae5",
   "metadata": {},
   "outputs": [
    {
     "data": {
      "text/plain": [
       "array([[10000],\n",
       "       [15000],\n",
       "       [50000],\n",
       "       [30000],\n",
       "       [ 5000],\n",
       "       [25000],\n",
       "       [20000],\n",
       "       [35000],\n",
       "       [40000],\n",
       "       [45000]], dtype=int64)"
      ]
     },
     "execution_count": 15,
     "metadata": {},
     "output_type": "execute_result"
    }
   ],
   "source": [
    "# make the numpy array of the price column of the dataset\n",
    "y=df[['price']].values\n",
    "y"
   ]
  },
  {
   "cell_type": "code",
   "execution_count": 17,
   "id": "a9d38b8b",
   "metadata": {},
   "outputs": [
    {
     "data": {
      "text/plain": [
       "LinearRegression()"
      ]
     },
     "execution_count": 17,
     "metadata": {},
     "output_type": "execute_result"
    }
   ],
   "source": [
    "# fit the model\n",
    "reg.fit(x,y)"
   ]
  },
  {
   "cell_type": "code",
   "execution_count": 18,
   "id": "18cbe1ce",
   "metadata": {},
   "outputs": [
    {
     "data": {
      "text/plain": [
       "array([[14055.55555556]])"
      ]
     },
     "execution_count": 18,
     "metadata": {},
     "output_type": "execute_result"
    }
   ],
   "source": [
    "# lets predict for 25 unit distance\n",
    "reg.predict([[25]])"
   ]
  },
  {
   "cell_type": "markdown",
   "id": "5f53e1eb",
   "metadata": {},
   "source": [
    "The above prediction says that, if the distance is 25 unit then the price of the house will be 14055.55555556 unit."
   ]
  },
  {
   "cell_type": "markdown",
   "id": "38148ed3",
   "metadata": {},
   "source": [
    "Verfication of the Linear Regression machine learning algorithm with the help of y = m * x + b\n",
    "\n",
    "* y = m * x + b\n",
    "* where y=dependent variable\n",
    "* m=coefficient\n",
    "* x=independant variable\n",
    "* b=intercept"
   ]
  },
  {
   "cell_type": "code",
   "execution_count": 19,
   "id": "97d87ce4",
   "metadata": {},
   "outputs": [
    {
     "data": {
      "text/plain": [
       "array([[672.22222222]])"
      ]
     },
     "execution_count": 19,
     "metadata": {},
     "output_type": "execute_result"
    }
   ],
   "source": [
    "# coefficient\n",
    "reg.coef_"
   ]
  },
  {
   "cell_type": "code",
   "execution_count": 20,
   "id": "ac03724e",
   "metadata": {},
   "outputs": [
    {
     "data": {
      "text/plain": [
       "array([-2750.])"
      ]
     },
     "execution_count": 20,
     "metadata": {},
     "output_type": "execute_result"
    }
   ],
   "source": [
    "# intercept\n",
    "reg.intercept_"
   ]
  },
  {
   "cell_type": "code",
   "execution_count": 21,
   "id": "ef17223e",
   "metadata": {},
   "outputs": [
    {
     "data": {
      "text/plain": [
       "14055.555555500003"
      ]
     },
     "execution_count": 21,
     "metadata": {},
     "output_type": "execute_result"
    }
   ],
   "source": [
    "# y=mx+b\n",
    "672.22222222*25+(-2750.)"
   ]
  },
  {
   "cell_type": "markdown",
   "id": "4e6b2307",
   "metadata": {},
   "source": [
    "Verified, hence we can say that the output of the machine learning algorithm is true."
   ]
  },
  {
   "cell_type": "code",
   "execution_count": null,
   "id": "2b90e39e",
   "metadata": {},
   "outputs": [],
   "source": []
  }
 ],
 "metadata": {
  "kernelspec": {
   "display_name": "Python 3 (ipykernel)",
   "language": "python",
   "name": "python3"
  },
  "language_info": {
   "codemirror_mode": {
    "name": "ipython",
    "version": 3
   },
   "file_extension": ".py",
   "mimetype": "text/x-python",
   "name": "python",
   "nbconvert_exporter": "python",
   "pygments_lexer": "ipython3",
   "version": "3.9.13"
  }
 },
 "nbformat": 4,
 "nbformat_minor": 5
}
